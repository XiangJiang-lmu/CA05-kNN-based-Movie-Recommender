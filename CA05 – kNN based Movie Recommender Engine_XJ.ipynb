{
 "cells": [
  {
   "cell_type": "markdown",
   "id": "06273104",
   "metadata": {},
   "source": [
    "# CA05 – kNN based Movie Recommender Engine"
   ]
  },
  {
   "cell_type": "markdown",
   "id": "e324104d",
   "metadata": {},
   "source": [
    "2. Data Source and Contents"
   ]
  },
  {
   "cell_type": "code",
   "execution_count": 1,
   "id": "8b1b9358",
   "metadata": {},
   "outputs": [],
   "source": [
    "import pandas as pd\n",
    "import numpy as np\n",
    "from sklearn.preprocessing import MinMaxScaler\n",
    "from sklearn.preprocessing import StandardScaler"
   ]
  },
  {
   "cell_type": "code",
   "execution_count": 2,
   "id": "186722bd",
   "metadata": {},
   "outputs": [
    {
     "data": {
      "text/html": [
       "<div>\n",
       "<style scoped>\n",
       "    .dataframe tbody tr th:only-of-type {\n",
       "        vertical-align: middle;\n",
       "    }\n",
       "\n",
       "    .dataframe tbody tr th {\n",
       "        vertical-align: top;\n",
       "    }\n",
       "\n",
       "    .dataframe thead th {\n",
       "        text-align: right;\n",
       "    }\n",
       "</style>\n",
       "<table border=\"1\" class=\"dataframe\">\n",
       "  <thead>\n",
       "    <tr style=\"text-align: right;\">\n",
       "      <th></th>\n",
       "      <th>Movie ID</th>\n",
       "      <th>Movie Name</th>\n",
       "      <th>IMDB Rating</th>\n",
       "      <th>Biography</th>\n",
       "      <th>Drama</th>\n",
       "      <th>Thriller</th>\n",
       "      <th>Comedy</th>\n",
       "      <th>Crime</th>\n",
       "      <th>Mystery</th>\n",
       "      <th>History</th>\n",
       "      <th>Label</th>\n",
       "    </tr>\n",
       "  </thead>\n",
       "  <tbody>\n",
       "    <tr>\n",
       "      <th>0</th>\n",
       "      <td>58</td>\n",
       "      <td>The Imitation Game</td>\n",
       "      <td>8.0</td>\n",
       "      <td>1</td>\n",
       "      <td>1</td>\n",
       "      <td>1</td>\n",
       "      <td>0</td>\n",
       "      <td>0</td>\n",
       "      <td>0</td>\n",
       "      <td>0</td>\n",
       "      <td>0</td>\n",
       "    </tr>\n",
       "    <tr>\n",
       "      <th>1</th>\n",
       "      <td>8</td>\n",
       "      <td>Ex Machina</td>\n",
       "      <td>7.7</td>\n",
       "      <td>0</td>\n",
       "      <td>1</td>\n",
       "      <td>0</td>\n",
       "      <td>0</td>\n",
       "      <td>0</td>\n",
       "      <td>1</td>\n",
       "      <td>0</td>\n",
       "      <td>0</td>\n",
       "    </tr>\n",
       "    <tr>\n",
       "      <th>2</th>\n",
       "      <td>46</td>\n",
       "      <td>A Beautiful Mind</td>\n",
       "      <td>8.2</td>\n",
       "      <td>1</td>\n",
       "      <td>1</td>\n",
       "      <td>0</td>\n",
       "      <td>0</td>\n",
       "      <td>0</td>\n",
       "      <td>0</td>\n",
       "      <td>0</td>\n",
       "      <td>0</td>\n",
       "    </tr>\n",
       "    <tr>\n",
       "      <th>3</th>\n",
       "      <td>62</td>\n",
       "      <td>Good Will Hunting</td>\n",
       "      <td>8.3</td>\n",
       "      <td>0</td>\n",
       "      <td>1</td>\n",
       "      <td>0</td>\n",
       "      <td>0</td>\n",
       "      <td>0</td>\n",
       "      <td>0</td>\n",
       "      <td>0</td>\n",
       "      <td>0</td>\n",
       "    </tr>\n",
       "    <tr>\n",
       "      <th>4</th>\n",
       "      <td>97</td>\n",
       "      <td>Forrest Gump</td>\n",
       "      <td>8.8</td>\n",
       "      <td>0</td>\n",
       "      <td>1</td>\n",
       "      <td>0</td>\n",
       "      <td>0</td>\n",
       "      <td>0</td>\n",
       "      <td>0</td>\n",
       "      <td>0</td>\n",
       "      <td>0</td>\n",
       "    </tr>\n",
       "  </tbody>\n",
       "</table>\n",
       "</div>"
      ],
      "text/plain": [
       "   Movie ID          Movie Name  IMDB Rating  Biography  Drama  Thriller  \\\n",
       "0        58  The Imitation Game          8.0          1      1         1   \n",
       "1         8          Ex Machina          7.7          0      1         0   \n",
       "2        46    A Beautiful Mind          8.2          1      1         0   \n",
       "3        62   Good Will Hunting          8.3          0      1         0   \n",
       "4        97        Forrest Gump          8.8          0      1         0   \n",
       "\n",
       "   Comedy  Crime  Mystery  History  Label  \n",
       "0       0      0        0        0      0  \n",
       "1       0      0        1        0      0  \n",
       "2       0      0        0        0      0  \n",
       "3       0      0        0        0      0  \n",
       "4       0      0        0        0      0  "
      ]
     },
     "execution_count": 2,
     "metadata": {},
     "output_type": "execute_result"
    }
   ],
   "source": [
    "df=pd.read_csv(\"https://raw.githubusercontent.com/ArinB/MSBA-CA-Data/main/CA05/movies_recommendation_data.csv\")\n",
    "df.head()"
   ]
  },
  {
   "cell_type": "markdown",
   "id": "66431804",
   "metadata": {},
   "source": [
    "3. Building your own Recommender System"
   ]
  },
  {
   "cell_type": "code",
   "execution_count": 3,
   "id": "2be755d8",
   "metadata": {},
   "outputs": [],
   "source": [
    "#Create future martix\n",
    "features = df[['Biography', 'Drama', 'Thriller', 'Comedy', 'Crime', 'Mystery', 'History']]"
   ]
  },
  {
   "cell_type": "code",
   "execution_count": 4,
   "id": "c0369f7d",
   "metadata": {},
   "outputs": [],
   "source": [
    "# Create KNN model\n",
    "from sklearn.neighbors import NearestNeighbors"
   ]
  },
  {
   "cell_type": "code",
   "execution_count": 5,
   "id": "1437fa89",
   "metadata": {},
   "outputs": [],
   "source": [
    "# Encode freatures for each column and set the similar movie type by \"The Post\"\n",
    "movie_data = {\"Movie Name\" : \"The Post\", \"IMDB Rating\" : 7.2, \"Biography\" : 1, \"Drama\" : 1, \"Thriller\": 0,\"Comedy\": 0, \"Crime\":0, \"Mystery\": 0, \"History\": 1}\n",
    "#Create a category dataframe for input\n",
    "movie_columns = ['IMDB Rating','Biography','Drama','Thriller','Comedy','Crime','Mystery','History']"
   ]
  },
  {
   "cell_type": "code",
   "execution_count": 6,
   "id": "d6e6a2dc",
   "metadata": {},
   "outputs": [],
   "source": [
    "#Transfer to be a dataframe\n",
    "movie_data=[movie_data]"
   ]
  },
  {
   "cell_type": "code",
   "execution_count": 7,
   "id": "d74b8773",
   "metadata": {},
   "outputs": [
    {
     "data": {
      "text/html": [
       "<div>\n",
       "<style scoped>\n",
       "    .dataframe tbody tr th:only-of-type {\n",
       "        vertical-align: middle;\n",
       "    }\n",
       "\n",
       "    .dataframe tbody tr th {\n",
       "        vertical-align: top;\n",
       "    }\n",
       "\n",
       "    .dataframe thead th {\n",
       "        text-align: right;\n",
       "    }\n",
       "</style>\n",
       "<table border=\"1\" class=\"dataframe\">\n",
       "  <thead>\n",
       "    <tr style=\"text-align: right;\">\n",
       "      <th></th>\n",
       "      <th>IMDB Rating</th>\n",
       "      <th>Biography</th>\n",
       "      <th>Drama</th>\n",
       "      <th>Thriller</th>\n",
       "      <th>Comedy</th>\n",
       "      <th>Crime</th>\n",
       "      <th>Mystery</th>\n",
       "      <th>History</th>\n",
       "    </tr>\n",
       "  </thead>\n",
       "  <tbody>\n",
       "    <tr>\n",
       "      <th>0</th>\n",
       "      <td>7.2</td>\n",
       "      <td>1</td>\n",
       "      <td>1</td>\n",
       "      <td>0</td>\n",
       "      <td>0</td>\n",
       "      <td>0</td>\n",
       "      <td>0</td>\n",
       "      <td>1</td>\n",
       "    </tr>\n",
       "  </tbody>\n",
       "</table>\n",
       "</div>"
      ],
      "text/plain": [
       "   IMDB Rating  Biography  Drama  Thriller  Comedy  Crime  Mystery  History\n",
       "0          7.2          1      1         0       0      0        0        1"
      ]
     },
     "execution_count": 7,
     "metadata": {},
     "output_type": "execute_result"
    }
   ],
   "source": [
    "#Make data into the dataframe\n",
    "new_movie=pd.DataFrame(movie_data,columns=movie_columns)\n",
    "new_movie"
   ]
  },
  {
   "cell_type": "code",
   "execution_count": 8,
   "id": "9729c9e5",
   "metadata": {},
   "outputs": [],
   "source": [
    "#Extract train data\n",
    "x_train=df[new_movie.columns].values"
   ]
  },
  {
   "cell_type": "code",
   "execution_count": 9,
   "id": "eb7f8fcc",
   "metadata": {},
   "outputs": [
    {
     "data": {
      "text/plain": [
       "NearestNeighbors()"
      ]
     },
     "execution_count": 9,
     "metadata": {},
     "output_type": "execute_result"
    }
   ],
   "source": [
    "#Set the top 5 range and build the K-NN model by 5\n",
    "k = 5\n",
    "knn_model = NearestNeighbors(n_neighbors=k)\n",
    "knn_model.fit(x_train)"
   ]
  },
  {
   "cell_type": "code",
   "execution_count": 10,
   "id": "f10b4723",
   "metadata": {},
   "outputs": [],
   "source": [
    "#Create a functuin to find the smilar movie location and give a specific coordinate\n",
    "def get_similar_movies(movie_data, k):\n",
    "    distances, indices = knn_model.kneighbors([movie_data], n_neighbors = k)\n",
    "    return df.iloc[indices[0]]"
   ]
  },
  {
   "cell_type": "code",
   "execution_count": 11,
   "id": "a46af606",
   "metadata": {},
   "outputs": [],
   "source": [
    "#Use this function through the model to find similar movies\n",
    "similar_movies = get_similar_movies(new_movie.iloc[0].values, k)"
   ]
  },
  {
   "cell_type": "code",
   "execution_count": 12,
   "id": "33da8c8f",
   "metadata": {},
   "outputs": [
    {
     "name": "stdout",
     "output_type": "stream",
     "text": [
      "The Similart movie: The Post\n",
      "----------------------------------------------------------------------------------------------------\n",
      "Top 5 recommended Movies:\n",
      "12 Years a Slave\n",
      "   Hacksaw Ridge\n",
      "  Queen of Katwe\n",
      "  The Wind Rises\n",
      "A Beautiful Mind\n"
     ]
    }
   ],
   "source": [
    "movie_name = movie_data[0][\"Movie Name\"]\n",
    "print(f\"The Similart movie: {movie_name}\")\n",
    "print(\"-\"*100)\n",
    "print(\"Top 5 recommended Movies:\")\n",
    "print(similar_movies[\"Movie Name\"].to_string(index = False))"
   ]
  },
  {
   "cell_type": "code",
   "execution_count": null,
   "id": "53ad7802",
   "metadata": {},
   "outputs": [],
   "source": []
  }
 ],
 "metadata": {
  "kernelspec": {
   "display_name": "Python 3 (ipykernel)",
   "language": "python",
   "name": "python3"
  },
  "language_info": {
   "codemirror_mode": {
    "name": "ipython",
    "version": 3
   },
   "file_extension": ".py",
   "mimetype": "text/x-python",
   "name": "python",
   "nbconvert_exporter": "python",
   "pygments_lexer": "ipython3",
   "version": "3.9.12"
  }
 },
 "nbformat": 4,
 "nbformat_minor": 5
}
